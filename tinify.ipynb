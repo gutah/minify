{
 "cells": [
  {
   "cell_type": "code",
   "execution_count": null,
   "metadata": {},
   "outputs": [],
   "source": [
    "import tinify \n",
    "\n",
    "# Tinify Key\n",
    "tinify.key = \"yq9J6wmNYxQvQF37Q2M1gQv1Wl5g1QMn\"\n",
    "\n",
    "\n",
    "# Call tinify API\n",
    "def minify(files, destination):\n",
    "    total = 0\n",
    "    for f in files:\n",
    "        filename = f.split(\"\\\\\")[-1] # Get filename\n",
    "        savepath = destination + \"\\\\\" + filename # Build save path\n",
    "        try:\n",
    "            print(\"Working on... \" + filename)\n",
    "            source = tinify.from_file(f) # Call tinify service\n",
    "            source.to_file(savepath) # Save file\n",
    "            total += 1 \n",
    "        except:\n",
    "            print(\"An error occured:\" + filename )\n",
    "    \n",
    "    print('Conclude! Total {0}'.format(total))"
   ]
  }
 ],
 "metadata": {
  "kernelspec": {
   "display_name": "Python 3",
   "language": "python",
   "name": "python3"
  },
  "language_info": {
   "codemirror_mode": {
    "name": "ipython",
    "version": 3
   },
   "file_extension": ".py",
   "mimetype": "text/x-python",
   "name": "python",
   "nbconvert_exporter": "python",
   "pygments_lexer": "ipython3",
   "version": "3.7.6"
  }
 },
 "nbformat": 4,
 "nbformat_minor": 4
}
