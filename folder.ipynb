{
 "cells": [
  {
   "cell_type": "code",
   "execution_count": null,
   "metadata": {},
   "outputs": [],
   "source": [
    "# Mange folders and files\n",
    "\n",
    "import os\n",
    "\n",
    "# Get files from folder\n",
    "def searchFiles(path):\n",
    "    files = []\n",
    "    # r=root, d=directories, f = files\n",
    "    for r, d, f in os.walk(path):\n",
    "        for file in f:\n",
    "            if '.jpg' or '.png'  in file:\n",
    "                files.append(os.path.join(r, file))\n",
    "    \n",
    "    return files\n",
    "\n",
    "# Create folder to save the photos\n",
    "def create_folder(path):\n",
    "    try:\n",
    "        # New folder name\n",
    "        folder = r'minified-photos4'\n",
    "        saveFolder = path + \"\\\\\" + folder \n",
    "        \n",
    "        # Verify if the folder alredy exist\n",
    "        if folder in os.listdir(path):\n",
    "            print(\"Folder already exist.\")\n",
    "            return saveFolder\n",
    "        \n",
    "        else:\n",
    "            os.mkdir(saveFolder)\n",
    "            print('Folder created.')\n",
    "            return saveFolder\n",
    "    \n",
    "    except:\n",
    "        print('An error ocurred.')"
   ]
  }
 ],
 "metadata": {
  "kernelspec": {
   "display_name": "Python 3",
   "language": "python",
   "name": "python3"
  },
  "language_info": {
   "codemirror_mode": {
    "name": "ipython",
    "version": 3
   },
   "file_extension": ".py",
   "mimetype": "text/x-python",
   "name": "python",
   "nbconvert_exporter": "python",
   "pygments_lexer": "ipython3",
   "version": "3.7.6"
  }
 },
 "nbformat": 4,
 "nbformat_minor": 4
}
